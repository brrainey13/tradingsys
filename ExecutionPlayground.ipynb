{
 "cells": [
  {
   "cell_type": "code",
   "execution_count": 1,
   "id": "cc6ad008-2cb0-4189-8909-eb02416590c1",
   "metadata": {
    "scrolled": true,
    "tags": []
   },
   "outputs": [
    {
     "name": "stdout",
     "output_type": "stream",
     "text": [
      "Y5AGTAPG9R64YAVDO14V785KJIG0QAFO\n",
      "ALLUSERSPROFILE: C:\\ProgramData\n",
      "API_TOKEN: Y5AGTAPG9R64YAVDO14V785KJIG0QAFO\n",
      "APPDATA: C:\\Users\\rrain\\AppData\\Roaming\n",
      "CHOCOLATEYINSTALL: C:\\ProgramData\\chocolatey\n",
      "CHOCOLATEYLASTPATHUPDATE: 132524704776184096\n",
      "COMMONPROGRAMFILES: C:\\Program Files\\Common Files\n",
      "COMMONPROGRAMFILES(X86): C:\\Program Files (x86)\\Common Files\n",
      "COMMONPROGRAMW6432: C:\\Program Files\\Common Files\n",
      "COMPUTERNAME: DESKTOP-8C4F6F1\n",
      "COMSPEC: C:\\WINDOWS\\system32\\cmd.exe\n",
      "DRIVERDATA: C:\\Windows\\System32\\Drivers\\DriverData\n",
      "FPS_BROWSER_APP_PROFILE_STRING: Internet Explorer\n",
      "FPS_BROWSER_USER_PROFILE_STRING: Default\n",
      "HOMEDRIVE: C:\n",
      "HOMEPATH: \\Users\\rrain\n",
      "LOCALAPPDATA: C:\\Users\\rrain\\AppData\\Local\n",
      "LOGONSERVER: \\\\DESKTOP-8C4F6F1\n",
      "NUMBER_OF_PROCESSORS: 8\n",
      "ONEDRIVE: C:\\Users\\rrain\\OneDrive\n",
      "ONEDRIVECONSUMER: C:\\Users\\rrain\\OneDrive\n",
      "OS: Windows_NT\n",
      "PATH: C:\\WINDOWS\\system32;C:\\WINDOWS;C:\\WINDOWS\\System32\\Wbem;C:\\WINDOWS\\System32\\WindowsPowerShell\\v1.0\\;C:\\WINDOWS\\System32\\OpenSSH\\;C:\\Program Files\\NVIDIA Corporation\\NVIDIA NvDLISR;C:\\Program Files (x86)\\NVIDIA Corporation\\PhysX\\Common;C:\\Program Files\\Zulu\\zulu-14\\bin\\;C:\\Program Files\\Microsoft SQL Server\\130\\Tools\\Binn\\;C:\\Program Files\\Microsoft SQL Server\\Client SDK\\ODBC\\170\\Tools\\Binn\\;C:\\Program Files\\Git\\cmd;C:\\WINDOWS\\system32;C:\\WINDOWS;C:\\WINDOWS\\System32\\Wbem;C:\\WINDOWS\\System32\\WindowsPowerShell\\v1.0\\;C:\\WINDOWS\\System32\\OpenSSH\\;C:\\Program Files\\dotnet\\;C:\\ProgramData\\chocolatey\\bin;D:\\bin;C:\\Program Files (x86)\\Common Files\\Intuit\\QBPOSSDKRuntime;C:\\Users\\rrain\\AppData\\Local\\Programs\\Python\\Python311\\Scripts\\;C:\\Users\\rrain\\AppData\\Local\\Programs\\Python\\Python311\\;C:\\Users\\rrain\\anaconda3;C:\\Users\\rrain\\anaconda3\\Library\\mingw-w64\\bin;C:\\Users\\rrain\\anaconda3\\Library\\usr\\bin;C:\\Users\\rrain\\anaconda3\\Library\\bin;C:\\Users\\rrain\\anaconda3\\Scripts;C:\\Users\\rrain\\AppData\\Local\\Microsoft\\WindowsApps;C:\\Users\\rrain\\AppData\\Local\\GitHubDesktop\\bin;C:\\Users\\rrain\\AppData\\Local\\Microsoft\\WindowsApps;C:\\Users\\rrain\\.dotnet\\tools;C:\\Users\\rrain\\AppData\\Local\\Programs\\Microsoft VS Code\\bin\n",
      "PATHEXT: .COM;.EXE;.BAT;.CMD;.VBS;.VBE;.JS;.JSE;.WSF;.WSH;.MSC\n",
      "PROCESSOR_ARCHITECTURE: AMD64\n",
      "PROCESSOR_IDENTIFIER: Intel64 Family 6 Model 158 Stepping 13, GenuineIntel\n",
      "PROCESSOR_LEVEL: 6\n",
      "PROCESSOR_REVISION: 9e0d\n",
      "PROGRAMDATA: C:\\ProgramData\n",
      "PROGRAMFILES: C:\\Program Files\n",
      "PROGRAMFILES(X86): C:\\Program Files (x86)\n",
      "PROGRAMW6432: C:\\Program Files\n",
      "PROMPT: $P$G\n",
      "PSMODULEPATH: C:\\Program Files\\WindowsPowerShell\\Modules;C:\\WINDOWS\\system32\\WindowsPowerShell\\v1.0\\Modules\n",
      "PUBLIC: C:\\Users\\Public\n",
      "SESSIONNAME: Console\n",
      "SYSTEMDRIVE: C:\n",
      "SYSTEMROOT: C:\\WINDOWS\n",
      "TEMP: C:\\Users\\rrain\\AppData\\Local\\Temp\n",
      "TMP: C:\\Users\\rrain\\AppData\\Local\\Temp\n",
      "USERDOMAIN: DESKTOP-8C4F6F1\n",
      "USERDOMAIN_ROAMINGPROFILE: DESKTOP-8C4F6F1\n",
      "USERNAME: rrain\n",
      "USERPROFILE: C:\\Users\\rrain\n",
      "WINDIR: C:\\WINDOWS\n",
      "PYDEVD_USE_FRAME_EVAL: NO\n",
      "JPY_SESSION_NAME: C:\\Users\\rrain\\Desktop\\trading\\Crude-Trading-System\\Untitled.ipynb\n",
      "JPY_INTERRUPT_EVENT: 4736\n",
      "IPY_INTERRUPT_EVENT: 4736\n",
      "JPY_PARENT_PID: 4592\n",
      "TERM: xterm-color\n",
      "CLICOLOR: 1\n",
      "FORCE_COLOR: 1\n",
      "CLICOLOR_FORCE: 1\n",
      "PAGER: cat\n",
      "GIT_PAGER: cat\n",
      "MPLBACKEND: module://matplotlib_inline.backend_inline\n"
     ]
    }
   ],
   "source": [
    "import json\n",
    "import requests\n",
    "import os\n",
    "api_token = os.environ.get('api_token')\n",
    "print(api_token)\n",
    "acct_number = '490677234'\n",
    "for name, value in os.environ.items():\n",
    "    print(\"{0}: {1}\".format(name, value))\n",
    "\n",
    "endpoint = 'https://api.tdameritrade.com/v1/marketdata/{stock_ticker}/quotes?'\n",
    "# endpoint = 'https://api.tdameritrade.com/v1/marketdata/{stock_ticker}/pricehistory'\n",
    "\n",
    "params = {\n",
    "'apikey' : api_token\n",
    "}\n",
    "\n",
    "\n",
    "full_url = endpoint.format(stock_ticker='AAPL')\n",
    "\n",
    "page = requests.get(url=full_url,\n",
    "                    params=params)\n",
    "content = json.loads(page.content)"
   ]
  },
  {
   "cell_type": "code",
   "execution_count": 2,
   "id": "5497c66d-e993-42b1-9472-eb9f5fb64af6",
   "metadata": {
    "scrolled": true,
    "tags": []
   },
   "outputs": [
    {
     "data": {
      "text/plain": [
       "{'AAPL': {'assetType': 'EQUITY',\n",
       "  'assetMainType': 'EQUITY',\n",
       "  'cusip': '037833100',\n",
       "  'assetSubType': '',\n",
       "  'symbol': 'AAPL',\n",
       "  'description': 'Apple Inc. - Common Stock',\n",
       "  'bidPrice': 179.05,\n",
       "  'bidSize': 900,\n",
       "  'bidId': 'P',\n",
       "  'askPrice': 179.07,\n",
       "  'askSize': 100,\n",
       "  'askId': 'P',\n",
       "  'lastPrice': 179.05,\n",
       "  'lastSize': 0,\n",
       "  'lastId': 'P',\n",
       "  'openPrice': 179.965,\n",
       "  'highPrice': 180.12,\n",
       "  'lowPrice': 177.43,\n",
       "  'bidTick': ' ',\n",
       "  'closePrice': 179.58,\n",
       "  'netChange': -0.53,\n",
       "  'totalVolume': 64848374,\n",
       "  'quoteTimeInLong': 1686095990490,\n",
       "  'tradeTimeInLong': 1686095997325,\n",
       "  'mark': 179.07,\n",
       "  'exchange': 'q',\n",
       "  'exchangeName': 'NASD',\n",
       "  'marginable': True,\n",
       "  'shortable': True,\n",
       "  'volatility': 0.0836,\n",
       "  'digits': 4,\n",
       "  '52WkHigh': 184.951,\n",
       "  '52WkLow': 124.17,\n",
       "  'nAV': 0.0,\n",
       "  'peRatio': 30.7439,\n",
       "  'divAmount': 0.96,\n",
       "  'divYield': 0.53,\n",
       "  'divDate': '2023-05-12 00:00:00.000',\n",
       "  'securityStatus': 'Normal',\n",
       "  'regularMarketLastPrice': 179.21,\n",
       "  'regularMarketLastSize': 39520,\n",
       "  'regularMarketNetChange': -0.37,\n",
       "  'regularMarketTradeTimeInLong': 1686081600348,\n",
       "  'netPercentChangeInDouble': -0.2951,\n",
       "  'markChangeInDouble': -0.51,\n",
       "  'markPercentChangeInDouble': -0.284,\n",
       "  'regularMarketPercentChangeInDouble': -0.206,\n",
       "  'delayed': True,\n",
       "  'realtimeEntitled': False}}"
      ]
     },
     "execution_count": 2,
     "metadata": {},
     "output_type": "execute_result"
    }
   ],
   "source": [
    "content"
   ]
  },
  {
   "cell_type": "code",
   "execution_count": 3,
   "id": "a77ecac1-ba03-4fca-8e6d-c90040d816f2",
   "metadata": {
    "tags": []
   },
   "outputs": [
    {
     "data": {
      "text/plain": [
       "<Response [200]>"
      ]
     },
     "execution_count": 3,
     "metadata": {},
     "output_type": "execute_result"
    }
   ],
   "source": [
    "endpoint = 'https://api.tdameritrade.com/v1/marketdata/quotes?'\n",
    "\n",
    "params = {\n",
    "'apikey' : api_token,\n",
    "'symbol' : 'AAPL, AAL, COF, VTLE'\n",
    "}\n",
    "\n",
    "\n",
    "page = requests.get(url=endpoint,\n",
    "                    params=params)\n",
    "content = json.loads(page.content)\n",
    "\n",
    "page"
   ]
  },
  {
   "cell_type": "code",
   "execution_count": null,
   "id": "701aa9fc-f92b-4425-9f0e-52ea88848aed",
   "metadata": {},
   "outputs": [],
   "source": []
  }
 ],
 "metadata": {
  "kernelspec": {
   "display_name": "Python 3 (ipykernel)",
   "language": "python",
   "name": "python3"
  },
  "language_info": {
   "codemirror_mode": {
    "name": "ipython",
    "version": 3
   },
   "file_extension": ".py",
   "mimetype": "text/x-python",
   "name": "python",
   "nbconvert_exporter": "python",
   "pygments_lexer": "ipython3",
   "version": "3.11.3"
  }
 },
 "nbformat": 4,
 "nbformat_minor": 5
}
