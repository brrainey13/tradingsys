{
 "cells": [
  {
   "cell_type": "code",
   "execution_count": 6,
   "id": "c339c781-8196-40c9-b103-222b9ac30596",
   "metadata": {
    "tags": []
   },
   "outputs": [],
   "source": [
    "\n",
    "from alpaca.trading.client import TradingClient\n",
    "from alpaca.data.historical import CryptoHistoricalDataClient\n",
    "from alpaca.data.requests import CryptoBarsRequest, CryptoLatestQuoteRequest\n",
    "from alpaca.data.timeframe import TimeFrame\n",
    "from datetime import datetime\n",
    "\n",
    "\n",
    "# No keys required for crypto data\n",
    "\n",
    "endpoint = 'https://paper-api.alpaca.markets'\n",
    "API_KEY = 'PK6OJ8TDPLJ0COVLA084'\n",
    "API_SECRET = '9jDumPY06ACzRCc8rK9vKKcXsSUBh5VdupyuPBmN'\n",
    "\n",
    "trading_client = TradingClient(API_KEY, API_SECRET, paper=True)"
   ]
  },
  {
   "cell_type": "code",
   "execution_count": 4,
   "id": "a672046b-a7c4-4279-ba08-3c9f8bf8f17b",
   "metadata": {
    "tags": []
   },
   "outputs": [
    {
     "name": "stdout",
     "output_type": "stream",
     "text": [
      "\"id\": 6e446514-ed6e-4f99-b984-b8e7d51a3ce9\n",
      "\"account_number\": PA2HTLJXXSFV\n",
      "\"status\": ACTIVE\n",
      "\"crypto_status\": ACTIVE\n",
      "\"currency\": USD\n",
      "\"buying_power\": 92635.5165953196021892\n",
      "\"regt_buying_power\": 92635.5165953196021892\n",
      "\"daytrading_buying_power\": 0\n",
      "\"non_marginable_buying_power\": 44317.75\n",
      "\"cash\": 46317.7582976598010946\n",
      "\"accrued_fees\": 0\n",
      "\"pending_transfer_out\": None\n",
      "\"pending_transfer_in\": 0\n",
      "\"portfolio_value\": 99632.8868901191470946\n",
      "\"pattern_day_trader\": True\n",
      "\"trading_blocked\": False\n",
      "\"transfers_blocked\": False\n",
      "\"account_blocked\": False\n",
      "\"created_at\": 2019-10-22 15:21:19.831045+00:00\n",
      "\"trade_suspended_by_user\": False\n",
      "\"multiplier\": 2\n",
      "\"shorting_enabled\": True\n",
      "\"equity\": 99632.8868901191470946\n",
      "\"last_equity\": 100000\n",
      "\"long_market_value\": 53315.128592459346\n",
      "\"short_market_value\": 0\n",
      "\"initial_margin\": 0\n",
      "\"maintenance_margin\": 0\n",
      "\"last_maintenance_margin\": 0\n",
      "\"sma\": 0\n",
      "\"daytrade_count\": 0\n"
     ]
    }
   ],
   "source": [
    "account = trading_client.get_account()\n",
    "dir(account)\n",
    "    \n",
    "for property_name, value in account:\n",
    "  print(f\"\\\"{property_name}\\\": {value}\")\n",
    "\n"
   ]
  },
  {
   "cell_type": "code",
   "execution_count": 5,
   "id": "248ddfda-64d6-45bf-9917-f0bdc4469289",
   "metadata": {
    "tags": []
   },
   "outputs": [
    {
     "name": "stdout",
     "output_type": "stream",
     "text": [
      "\"id\": 943fcbd1-7f59-49fb-80e0-b006b90fc414\n",
      "\"client_order_id\": 5f0bc8ff-3598-4c10-b687-03e8b96b02b1\n",
      "\"created_at\": 2023-06-19 22:50:17.295127+00:00\n",
      "\"updated_at\": 2023-06-19 22:50:17.295164+00:00\n",
      "\"submitted_at\": 2023-06-19 22:50:17.294028+00:00\n",
      "\"filled_at\": None\n",
      "\"expired_at\": None\n",
      "\"canceled_at\": None\n",
      "\"failed_at\": None\n",
      "\"replaced_at\": None\n",
      "\"replaced_by\": None\n",
      "\"replaces\": None\n",
      "\"asset_id\": 276e2673-764b-4ab6-a611-caf665ca6340\n",
      "\"symbol\": BTC/USD\n",
      "\"asset_class\": crypto\n",
      "\"notional\": None\n",
      "\"qty\": 1\n",
      "\"filled_qty\": 0\n",
      "\"filled_avg_price\": None\n",
      "\"order_class\": simple\n",
      "\"order_type\": market\n",
      "\"type\": market\n",
      "\"side\": buy\n",
      "\"time_in_force\": gtc\n",
      "\"limit_price\": None\n",
      "\"stop_price\": None\n",
      "\"status\": pending_new\n",
      "\"extended_hours\": False\n",
      "\"legs\": None\n",
      "\"trail_percent\": None\n",
      "\"trail_price\": None\n",
      "\"hwm\": None\n"
     ]
    }
   ],
   "source": [
    "from alpaca.trading.requests import MarketOrderRequest\n",
    "from alpaca.trading.enums import OrderSide, TimeInForce\n",
    "\n",
    "# Setting parameters for our buy order\n",
    "market_order_data = MarketOrderRequest(\n",
    "                      symbol=\"BTC/USD\",\n",
    "                      qty=1,\n",
    "                      side=OrderSide.BUY,\n",
    "                      time_in_force=TimeInForce.GTC\n",
    "                  )\n",
    "market_order = trading_client.submit_order(market_order_data)\n",
    "for property_name, value in market_order:\n",
    "  print(f\"\\\"{property_name}\\\": {value}\")\n"
   ]
  },
  {
   "cell_type": "code",
   "execution_count": 8,
   "id": "cba7d0cc-1409-49c3-8d49-5ae1d1f97094",
   "metadata": {
    "tags": []
   },
   "outputs": [
    {
     "data": {
      "text/plain": [
       "{'BTC/USD': {   'ask_exchange': None,\n",
       "     'ask_price': 30466.7,\n",
       "     'ask_size': 0.27620575,\n",
       "     'bid_exchange': None,\n",
       "     'bid_price': 30408.58719,\n",
       "     'bid_size': 0.27521014,\n",
       "     'conditions': None,\n",
       "     'symbol': 'BTC/USD',\n",
       "     'tape': None,\n",
       "     'timestamp': datetime.datetime(2023, 6, 26, 0, 19, 24, 347089, tzinfo=datetime.timezone.utc)}}"
      ]
     },
     "execution_count": 8,
     "metadata": {},
     "output_type": "execute_result"
    }
   ],
   "source": [
    "client = CryptoHistoricalDataClient()\n",
    "\n",
    "request_params = CryptoBarsRequest(\n",
    "                        symbol_or_symbols=[\"BTC/USD\"],\n",
    "                        timeframe=TimeFrame.Day,\n",
    "                        start=datetime(2022, 7, 1),\n",
    "                        end=datetime(2023, 6, 24),\n",
    "                        feed='US'\n",
    "                        )\n",
    "\n",
    "request_params1 = CryptoLatestQuoteRequest(\n",
    "                        symbol_or_symbols=[\"BTC/USD\"],\n",
    "                        feed='US'\n",
    "                        )\n",
    "\n",
    "btc_bars = client.get_crypto_bars(request_params, feed='us')\n",
    "btc_quotes = client.get_crypto_latest_quote(request_params1)\n",
    "\n",
    "# Convert to dataframe\n",
    "#btc_bars.df\n",
    "btc_quotes"
   ]
  },
  {
   "cell_type": "code",
   "execution_count": null,
   "id": "4ec38b65-7a90-4cb7-8349-a1c3317bb038",
   "metadata": {},
   "outputs": [],
   "source": []
  },
  {
   "cell_type": "code",
   "execution_count": 7,
   "id": "f0f84965-e6a6-4ebf-930b-4d77800a1893",
   "metadata": {
    "tags": []
   },
   "outputs": [
    {
     "name": "stdout",
     "output_type": "stream",
     "text": [
      "Requirement already satisfied: nest_asyncio in /home/brainey/.local/lib/python3.8/site-packages (1.5.6)\n",
      "Note: you may need to restart the kernel to use updated packages.\n"
     ]
    }
   ],
   "source": [
    "%pip install nest_asyncio"
   ]
  },
  {
   "cell_type": "code",
   "execution_count": 2,
   "id": "94420d89-0aa8-46c3-b4f4-e9ca0b6a9467",
   "metadata": {
    "tags": []
   },
   "outputs": [
    {
     "name": "stdout",
     "output_type": "stream",
     "text": [
      "keyboard interrupt, bye\n"
     ]
    }
   ],
   "source": [
    "from alpaca.data.live import CryptoDataStream\n",
    "import asyncio\n",
    "\n",
    "crypto_stream = CryptoDataStream(API_KEY, API_SECRET)\n",
    "\n",
    "# async handler\n",
    "async def quote_data_handler(data):\n",
    "    # quote data will arrive here\n",
    "    print(data)\n",
    "\n",
    "\n",
    "crypto_stream.subscribe_bars(quote_data_handler, \"ETH/USD\")\n",
    "crypto_stream.run()\n",
    "\n"
   ]
  },
  {
   "cell_type": "code",
   "execution_count": 3,
   "id": "5fca889e-c45a-423f-b5d5-d717d545a913",
   "metadata": {
    "tags": []
   },
   "outputs": [
    {
     "name": "stdout",
     "output_type": "stream",
     "text": [
      "keyboard interrupt, bye\n"
     ]
    }
   ],
   "source": [
    "from alpaca.data.live import StockDataStream\n",
    "import asyncio\n",
    "import nest_asyncio\n",
    "\n",
    "nest_asyncio.apply()\n",
    "\n",
    "wss_client = StockDataStream(API_KEY, API_SECRET)\n",
    "\n",
    "# async handler\n",
    "async def quote_data_handler(data):\n",
    "    # quote data will arrive here\n",
    "    print(data)\n",
    "\n",
    "wss_client.subscribe_quotes(quote_data_handler, \"SPY\")\n",
    "\n",
    "wss_client.run()"
   ]
  },
  {
   "cell_type": "code",
   "execution_count": null,
   "id": "e6a5334e-5fcb-47e0-b507-a44ff2915771",
   "metadata": {},
   "outputs": [],
   "source": []
  }
 ],
 "metadata": {
  "kernelspec": {
   "display_name": "Python 3 (ipykernel)",
   "language": "python",
   "name": "python3"
  },
  "language_info": {
   "codemirror_mode": {
    "name": "ipython",
    "version": 3
   },
   "file_extension": ".py",
   "mimetype": "text/x-python",
   "name": "python",
   "nbconvert_exporter": "python",
   "pygments_lexer": "ipython3",
   "version": "3.8.10"
  }
 },
 "nbformat": 4,
 "nbformat_minor": 5
}
