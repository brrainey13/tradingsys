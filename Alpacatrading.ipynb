{
 "cells": [
  {
   "cell_type": "code",
   "execution_count": 2,
   "id": "c339c781-8196-40c9-b103-222b9ac30596",
   "metadata": {
    "tags": []
   },
   "outputs": [],
   "source": [
    "\n",
    "from alpaca.trading.client import TradingClient\n",
    "from alpaca.data.historical import CryptoHistoricalDataClient\n",
    "from alpaca.data.requests import CryptoBarsRequest\n",
    "from alpaca.data.timeframe import TimeFrame\n",
    "from datetime import datetime\n",
    "\n",
    "\n",
    "# No keys required for crypto data\n",
    "\n",
    "endpoint = 'https://paper-api.alpaca.markets'\n",
    "API_KEY = 'PK6OJ8TDPLJ0COVLA084'\n",
    "API_SECRET = '9jDumPY06ACzRCc8rK9vKKcXsSUBh5VdupyuPBmN'\n",
    "\n",
    "trading_client = TradingClient(API_KEY, API_SECRET, paper=True)"
   ]
  },
  {
   "cell_type": "code",
   "execution_count": null,
   "id": "a672046b-a7c4-4279-ba08-3c9f8bf8f17b",
   "metadata": {
    "tags": []
   },
   "outputs": [],
   "source": [
    "account = trading_client.get_account()\n",
    "dir(account)\n",
    "    \n",
    "for property_name, value in account:\n",
    "  print(f\"\\\"{property_name}\\\": {value}\")\n",
    "\n"
   ]
  },
  {
   "cell_type": "code",
   "execution_count": null,
   "id": "248ddfda-64d6-45bf-9917-f0bdc4469289",
   "metadata": {
    "tags": []
   },
   "outputs": [],
   "source": [
    "from alpaca.trading.requests import MarketOrderRequest\n",
    "from alpaca.trading.enums import OrderSide, TimeInForce\n",
    "\n",
    "# Setting parameters for our buy order\n",
    "market_order_data = MarketOrderRequest(\n",
    "                      symbol=\"BTC/USD\",\n",
    "                      qty=1,\n",
    "                      side=OrderSide.BUY,\n",
    "                      time_in_force=TimeInForce.GTC\n",
    "                  )\n",
    "market_order = trading_client.submit_order(market_order_data)\n",
    "for property_name, value in market_order:\n",
    "  print(f\"\\\"{property_name}\\\": {value}\")\n"
   ]
  },
  {
   "cell_type": "code",
   "execution_count": null,
   "id": "cba7d0cc-1409-49c3-8d49-5ae1d1f97094",
   "metadata": {
    "tags": []
   },
   "outputs": [],
   "source": [
    "client = CryptoHistoricalDataClient()\n",
    "\n",
    "request_params = CryptoBarsRequest(\n",
    "                        symbol_or_symbols=[\"BTC/USD\"],\n",
    "                        timeframe=TimeFrame.Day,\n",
    "                        start=datetime(2022, 7, 1),\n",
    "                        end=datetime(2022, 7, 3),\n",
    "                        feed='US'\n",
    "                        )\n",
    "\n",
    "btc_bars = client.get_crypto_bars(request_params, feed='us')\n",
    "\n",
    "# Convert to dataframe\n",
    "btc_bars.df"
   ]
  },
  {
   "cell_type": "code",
   "execution_count": null,
   "id": "4ec38b65-7a90-4cb7-8349-a1c3317bb038",
   "metadata": {},
   "outputs": [],
   "source": []
  },
  {
   "cell_type": "code",
   "execution_count": null,
   "id": "f0f84965-e6a6-4ebf-930b-4d77800a1893",
   "metadata": {
    "tags": []
   },
   "outputs": [],
   "source": [
    "%pip install nest_asyncio"
   ]
  },
  {
   "cell_type": "code",
   "execution_count": null,
   "id": "94420d89-0aa8-46c3-b4f4-e9ca0b6a9467",
   "metadata": {
    "tags": []
   },
   "outputs": [
    {
     "name": "stderr",
     "output_type": "stream",
     "text": [
      "data websocket error, restarting connection: server rejected WebSocket connection: HTTP 404\n",
      "data websocket error, restarting connection: server rejected WebSocket connection: HTTP 404\n",
      "data websocket error, restarting connection: server rejected WebSocket connection: HTTP 404\n",
      "data websocket error, restarting connection: server rejected WebSocket connection: HTTP 404\n",
      "data websocket error, restarting connection: server rejected WebSocket connection: HTTP 404\n",
      "data websocket error, restarting connection: server rejected WebSocket connection: HTTP 404\n",
      "data websocket error, restarting connection: server rejected WebSocket connection: HTTP 404\n",
      "data websocket error, restarting connection: server rejected WebSocket connection: HTTP 404\n",
      "data websocket error, restarting connection: server rejected WebSocket connection: HTTP 404\n",
      "data websocket error, restarting connection: server rejected WebSocket connection: HTTP 404\n",
      "data websocket error, restarting connection: server rejected WebSocket connection: HTTP 404\n",
      "data websocket error, restarting connection: server rejected WebSocket connection: HTTP 404\n",
      "data websocket error, restarting connection: server rejected WebSocket connection: HTTP 404\n",
      "data websocket error, restarting connection: server rejected WebSocket connection: HTTP 404\n",
      "data websocket error, restarting connection: server rejected WebSocket connection: HTTP 404\n",
      "data websocket error, restarting connection: server rejected WebSocket connection: HTTP 404\n"
     ]
    }
   ],
   "source": [
    "from alpaca.data.live import CryptoDataStream\n",
    "import asyncio\n",
    "import nest_asyncio\n",
    "\n",
    "nest_asyncio.apply()\n",
    "\n",
    "crypto_stream = CryptoDataStream(API_KEY, API_SECRET)\n",
    "\n",
    "# async handler\n",
    "async def quote_data_handler(data):\n",
    "    # quote data will arrive here\n",
    "    print(data)\n",
    "\n",
    "\n",
    "crypto_stream.subscribe_bars(quote_data_handler, \"ETH/USD\")\n",
    "crypto_stream.run()\n",
    "\n"
   ]
  },
  {
   "cell_type": "code",
   "execution_count": null,
   "id": "5fca889e-c45a-423f-b5d5-d717d545a913",
   "metadata": {
    "tags": []
   },
   "outputs": [],
   "source": [
    "from alpaca.data.live import StockDataStream\n",
    "import asyncio\n",
    "import nest_asyncio\n",
    "\n",
    "nest_asyncio.apply()\n",
    "\n",
    "wss_client = StockDataStream(API_KEY, API_SECRET)\n",
    "\n",
    "# async handler\n",
    "async def quote_data_handler(data):\n",
    "    # quote data will arrive here\n",
    "    print(data)\n",
    "\n",
    "wss_client.subscribe_quotes(quote_data_handler, \"SPY\")\n",
    "\n",
    "wss_client.run()"
   ]
  },
  {
   "cell_type": "code",
   "execution_count": null,
   "id": "e6a5334e-5fcb-47e0-b507-a44ff2915771",
   "metadata": {},
   "outputs": [],
   "source": []
  }
 ],
 "metadata": {
  "kernelspec": {
   "display_name": "Python 3 (ipykernel)",
   "language": "python",
   "name": "python3"
  },
  "language_info": {
   "codemirror_mode": {
    "name": "ipython",
    "version": 3
   },
   "file_extension": ".py",
   "mimetype": "text/x-python",
   "name": "python",
   "nbconvert_exporter": "python",
   "pygments_lexer": "ipython3",
   "version": "3.11.3"
  }
 },
 "nbformat": 4,
 "nbformat_minor": 5
}
